{
 "cells": [
  {
   "cell_type": "code",
   "execution_count": 57,
   "metadata": {},
   "outputs": [],
   "source": [
    "from pathlib import Path\n",
    "\n",
    "import matplotlib.pyplot as plt\n",
    "import pandas as pd\n",
    "import seaborn as sns\n",
    "import numpy as np\n",
    "import plotnine as p9\n",
    "\n",
    "np.random.seed(42)\n",
    "\n",
    "sns.set_style(\"whitegrid\")\n",
    "Path.cwd()\n",
    "data_dir = (Path.cwd().parent / \".data/extra-L02\").resolve()\n",
    "assert data_dir.exists()"
   ]
  },
  {
   "cell_type": "code",
   "execution_count": 58,
   "metadata": {},
   "outputs": [
    {
     "data": {
      "text/plain": [
       "['tourism.xlsx', 'tute1.csv', 'tourism_no_fmt.xlsx']"
      ]
     },
     "execution_count": 58,
     "metadata": {},
     "output_type": "execute_result"
    }
   ],
   "source": [
    "list(f\"{pth.stem}{pth.suffix}\" for pth in data_dir.glob(\"*\"))"
   ]
  },
  {
   "cell_type": "code",
   "execution_count": 59,
   "metadata": {},
   "outputs": [
    {
     "data": {
      "text/html": [
       "<div>\n",
       "<style scoped>\n",
       "    .dataframe tbody tr th:only-of-type {\n",
       "        vertical-align: middle;\n",
       "    }\n",
       "\n",
       "    .dataframe tbody tr th {\n",
       "        vertical-align: top;\n",
       "    }\n",
       "\n",
       "    .dataframe thead th {\n",
       "        text-align: right;\n",
       "    }\n",
       "</style>\n",
       "<table border=\"1\" class=\"dataframe\">\n",
       "  <thead>\n",
       "    <tr style=\"text-align: right;\">\n",
       "      <th></th>\n",
       "      <th></th>\n",
       "      <th></th>\n",
       "      <th></th>\n",
       "      <th>Trips</th>\n",
       "    </tr>\n",
       "    <tr>\n",
       "      <th>Quarter</th>\n",
       "      <th>Region</th>\n",
       "      <th>State</th>\n",
       "      <th>Purpose</th>\n",
       "      <th></th>\n",
       "    </tr>\n",
       "  </thead>\n",
       "  <tbody>\n",
       "    <tr>\n",
       "      <th>1998-01-01</th>\n",
       "      <th>Adelaide</th>\n",
       "      <th>South Australia</th>\n",
       "      <th>Business</th>\n",
       "      <td>135.077690</td>\n",
       "    </tr>\n",
       "    <tr>\n",
       "      <th>1998-04-01</th>\n",
       "      <th>Adelaide</th>\n",
       "      <th>South Australia</th>\n",
       "      <th>Business</th>\n",
       "      <td>109.987316</td>\n",
       "    </tr>\n",
       "    <tr>\n",
       "      <th>1998-07-01</th>\n",
       "      <th>Adelaide</th>\n",
       "      <th>South Australia</th>\n",
       "      <th>Business</th>\n",
       "      <td>166.034687</td>\n",
       "    </tr>\n",
       "    <tr>\n",
       "      <th>1998-10-01</th>\n",
       "      <th>Adelaide</th>\n",
       "      <th>South Australia</th>\n",
       "      <th>Business</th>\n",
       "      <td>127.160464</td>\n",
       "    </tr>\n",
       "    <tr>\n",
       "      <th>1999-01-01</th>\n",
       "      <th>Adelaide</th>\n",
       "      <th>South Australia</th>\n",
       "      <th>Business</th>\n",
       "      <td>137.448533</td>\n",
       "    </tr>\n",
       "    <tr>\n",
       "      <th>...</th>\n",
       "      <th>...</th>\n",
       "      <th>...</th>\n",
       "      <th>...</th>\n",
       "      <td>...</td>\n",
       "    </tr>\n",
       "    <tr>\n",
       "      <th>2016-10-01</th>\n",
       "      <th>Yorke Peninsula</th>\n",
       "      <th>South Australia</th>\n",
       "      <th>Visiting</th>\n",
       "      <td>33.672151</td>\n",
       "    </tr>\n",
       "    <tr>\n",
       "      <th>2017-01-01</th>\n",
       "      <th>Yorke Peninsula</th>\n",
       "      <th>South Australia</th>\n",
       "      <th>Visiting</th>\n",
       "      <td>46.223014</td>\n",
       "    </tr>\n",
       "    <tr>\n",
       "      <th>2017-04-01</th>\n",
       "      <th>Yorke Peninsula</th>\n",
       "      <th>South Australia</th>\n",
       "      <th>Visiting</th>\n",
       "      <td>50.582837</td>\n",
       "    </tr>\n",
       "    <tr>\n",
       "      <th>2017-07-01</th>\n",
       "      <th>Yorke Peninsula</th>\n",
       "      <th>South Australia</th>\n",
       "      <th>Visiting</th>\n",
       "      <td>27.766728</td>\n",
       "    </tr>\n",
       "    <tr>\n",
       "      <th>2017-10-01</th>\n",
       "      <th>Yorke Peninsula</th>\n",
       "      <th>South Australia</th>\n",
       "      <th>Visiting</th>\n",
       "      <td>46.281578</td>\n",
       "    </tr>\n",
       "  </tbody>\n",
       "</table>\n",
       "<p>24320 rows × 1 columns</p>\n",
       "</div>"
      ],
      "text/plain": [
       "                                                          Trips\n",
       "Quarter    Region          State           Purpose             \n",
       "1998-01-01 Adelaide        South Australia Business  135.077690\n",
       "1998-04-01 Adelaide        South Australia Business  109.987316\n",
       "1998-07-01 Adelaide        South Australia Business  166.034687\n",
       "1998-10-01 Adelaide        South Australia Business  127.160464\n",
       "1999-01-01 Adelaide        South Australia Business  137.448533\n",
       "...                                                         ...\n",
       "2016-10-01 Yorke Peninsula South Australia Visiting   33.672151\n",
       "2017-01-01 Yorke Peninsula South Australia Visiting   46.223014\n",
       "2017-04-01 Yorke Peninsula South Australia Visiting   50.582837\n",
       "2017-07-01 Yorke Peninsula South Australia Visiting   27.766728\n",
       "2017-10-01 Yorke Peninsula South Australia Visiting   46.281578\n",
       "\n",
       "[24320 rows x 1 columns]"
      ]
     },
     "execution_count": 59,
     "metadata": {},
     "output_type": "execute_result"
    }
   ],
   "source": [
    "df = (\n",
    "    pd.read_excel(data_dir / \"tourism.xlsx\", sheet_name=\"Sheet1\")\n",
    "    .astype(dict(map(lambda c: (c, \"category\"), [\"Region\", \"State\", \"Purpose\"])))\n",
    "    .assign(Quarter=lambda df: pd.to_datetime(df[\"Quarter\"]))\n",
    "    .set_index(\n",
    "        [\"Quarter\", \"Region\", \"State\", \"Purpose\"]\n",
    "    )\n",
    ")\n",
    "df"
   ]
  },
  {
   "cell_type": "code",
   "execution_count": 60,
   "metadata": {},
   "outputs": [
    {
     "name": "stderr",
     "output_type": "stream",
     "text": [
      "/var/folders/yl/_h6j91qd4d30w8vyy7hnlvjh0000gn/T/ipykernel_61669/2436044702.py:2: FutureWarning: The default of observed=False is deprecated and will be changed to True in a future version of pandas. Pass observed=False to retain current behavior or observed=True to adopt the future default and silence this warning.\n"
     ]
    },
    {
     "data": {
      "text/plain": [
       "Trips    (Sydney, Visiting)\n",
       "dtype: object"
      ]
     },
     "execution_count": 60,
     "metadata": {},
     "output_type": "execute_result"
    }
   ],
   "source": [
    "# Find what combination of Region and Purpose had the maximum number of overnight trips on average.\n",
    "df.groupby([\"Region\", \"Purpose\"]).mean().idxmax()"
   ]
  },
  {
   "cell_type": "code",
   "execution_count": 61,
   "metadata": {},
   "outputs": [
    {
     "name": "stderr",
     "output_type": "stream",
     "text": [
      "/var/folders/yl/_h6j91qd4d30w8vyy7hnlvjh0000gn/T/ipykernel_61669/3395985274.py:3: FutureWarning: The default of observed=False is deprecated and will be changed to True in a future version of pandas. Pass observed=False to retain current behavior or observed=True to adopt the future default and silence this warning.\n"
     ]
    },
    {
     "data": {
      "text/html": [
       "<div>\n",
       "<style scoped>\n",
       "    .dataframe tbody tr th:only-of-type {\n",
       "        vertical-align: middle;\n",
       "    }\n",
       "\n",
       "    .dataframe tbody tr th {\n",
       "        vertical-align: top;\n",
       "    }\n",
       "\n",
       "    .dataframe thead th {\n",
       "        text-align: right;\n",
       "    }\n",
       "</style>\n",
       "<table border=\"1\" class=\"dataframe\">\n",
       "  <thead>\n",
       "    <tr style=\"text-align: right;\">\n",
       "      <th></th>\n",
       "      <th></th>\n",
       "      <th>Trips</th>\n",
       "    </tr>\n",
       "    <tr>\n",
       "      <th>Quarter</th>\n",
       "      <th>State</th>\n",
       "      <th></th>\n",
       "    </tr>\n",
       "  </thead>\n",
       "  <tbody>\n",
       "    <tr>\n",
       "      <th rowspan=\"5\" valign=\"top\">1998-01-01</th>\n",
       "      <th>ACT</th>\n",
       "      <td>551.001921</td>\n",
       "    </tr>\n",
       "    <tr>\n",
       "      <th>New South Wales</th>\n",
       "      <td>8039.794795</td>\n",
       "    </tr>\n",
       "    <tr>\n",
       "      <th>Northern Territory</th>\n",
       "      <td>181.448823</td>\n",
       "    </tr>\n",
       "    <tr>\n",
       "      <th>Queensland</th>\n",
       "      <td>4041.370159</td>\n",
       "    </tr>\n",
       "    <tr>\n",
       "      <th>South Australia</th>\n",
       "      <td>1735.438418</td>\n",
       "    </tr>\n",
       "    <tr>\n",
       "      <th>...</th>\n",
       "      <th>...</th>\n",
       "      <td>...</td>\n",
       "    </tr>\n",
       "    <tr>\n",
       "      <th rowspan=\"5\" valign=\"top\">2017-10-01</th>\n",
       "      <th>Queensland</th>\n",
       "      <td>5813.903667</td>\n",
       "    </tr>\n",
       "    <tr>\n",
       "      <th>South Australia</th>\n",
       "      <td>1869.106985</td>\n",
       "    </tr>\n",
       "    <tr>\n",
       "      <th>Tasmania</th>\n",
       "      <td>800.508499</td>\n",
       "    </tr>\n",
       "    <tr>\n",
       "      <th>Victoria</th>\n",
       "      <td>6865.398851</td>\n",
       "    </tr>\n",
       "    <tr>\n",
       "      <th>Western Australia</th>\n",
       "      <td>2635.754296</td>\n",
       "    </tr>\n",
       "  </tbody>\n",
       "</table>\n",
       "<p>640 rows × 1 columns</p>\n",
       "</div>"
      ],
      "text/plain": [
       "                                     Trips\n",
       "Quarter    State                          \n",
       "1998-01-01 ACT                  551.001921\n",
       "           New South Wales     8039.794795\n",
       "           Northern Territory   181.448823\n",
       "           Queensland          4041.370159\n",
       "           South Australia     1735.438418\n",
       "...                                    ...\n",
       "2017-10-01 Queensland          5813.903667\n",
       "           South Australia     1869.106985\n",
       "           Tasmania             800.508499\n",
       "           Victoria            6865.398851\n",
       "           Western Australia   2635.754296\n",
       "\n",
       "[640 rows x 1 columns]"
      ]
     },
     "execution_count": 61,
     "metadata": {},
     "output_type": "execute_result"
    }
   ],
   "source": [
    "# Create a new tsibble which combines the Purposes and Regions, and just has total trips by State.\n",
    "df_qs = (\n",
    "    df.groupby([\"Quarter\", \"State\"])\n",
    "    .sum()\n",
    "    .reset_index()\n",
    "    .set_index([\"Quarter\", \"State\"])\n",
    ")\n",
    "df_qs"
   ]
  },
  {
   "cell_type": "code",
   "execution_count": 62,
   "metadata": {},
   "outputs": [
    {
     "data": {
      "text/plain": [
       "Region             MacDonnell\n",
       "State      Northern Territory\n",
       "Purpose              Business\n",
       "Name: 14400, dtype: object"
      ]
     },
     "execution_count": 62,
     "metadata": {},
     "output_type": "execute_result"
    }
   ],
   "source": [
    "sampled_combination = (\n",
    "    df\n",
    "    .reset_index()\n",
    "    [['Region', 'State', 'Purpose']]\n",
    "    .drop_duplicates()\n",
    "    .sample(n=1)\n",
    "    .iloc[0]\n",
    ")\n",
    "sampled_combination"
   ]
  },
  {
   "cell_type": "code",
   "execution_count": 63,
   "metadata": {},
   "outputs": [
    {
     "name": "stdout",
     "output_type": "stream",
     "text": [
      "Region      Purpose   State             \n",
      "MacDonnell  Business  Northern Territory    80\n",
      "Name: count, dtype: int64\n"
     ]
    },
    {
     "data": {
      "text/html": [
       "<div>\n",
       "<style scoped>\n",
       "    .dataframe tbody tr th:only-of-type {\n",
       "        vertical-align: middle;\n",
       "    }\n",
       "\n",
       "    .dataframe tbody tr th {\n",
       "        vertical-align: top;\n",
       "    }\n",
       "\n",
       "    .dataframe thead th {\n",
       "        text-align: right;\n",
       "    }\n",
       "</style>\n",
       "<table border=\"1\" class=\"dataframe\">\n",
       "  <thead>\n",
       "    <tr style=\"text-align: right;\">\n",
       "      <th></th>\n",
       "      <th>Trips</th>\n",
       "    </tr>\n",
       "    <tr>\n",
       "      <th>Quarter</th>\n",
       "      <th></th>\n",
       "    </tr>\n",
       "  </thead>\n",
       "  <tbody>\n",
       "    <tr>\n",
       "      <th>1998-01-01</th>\n",
       "      <td>8.616410</td>\n",
       "    </tr>\n",
       "    <tr>\n",
       "      <th>1998-04-01</th>\n",
       "      <td>3.337375</td>\n",
       "    </tr>\n",
       "    <tr>\n",
       "      <th>1998-07-01</th>\n",
       "      <td>3.825849</td>\n",
       "    </tr>\n",
       "    <tr>\n",
       "      <th>1998-10-01</th>\n",
       "      <td>4.543881</td>\n",
       "    </tr>\n",
       "    <tr>\n",
       "      <th>1999-01-01</th>\n",
       "      <td>2.972091</td>\n",
       "    </tr>\n",
       "    <tr>\n",
       "      <th>...</th>\n",
       "      <td>...</td>\n",
       "    </tr>\n",
       "    <tr>\n",
       "      <th>2016-10-01</th>\n",
       "      <td>4.548222</td>\n",
       "    </tr>\n",
       "    <tr>\n",
       "      <th>2017-01-01</th>\n",
       "      <td>8.813324</td>\n",
       "    </tr>\n",
       "    <tr>\n",
       "      <th>2017-04-01</th>\n",
       "      <td>16.762800</td>\n",
       "    </tr>\n",
       "    <tr>\n",
       "      <th>2017-07-01</th>\n",
       "      <td>28.437573</td>\n",
       "    </tr>\n",
       "    <tr>\n",
       "      <th>2017-10-01</th>\n",
       "      <td>10.166296</td>\n",
       "    </tr>\n",
       "  </tbody>\n",
       "</table>\n",
       "<p>80 rows × 1 columns</p>\n",
       "</div>"
      ],
      "text/plain": [
       "                Trips\n",
       "Quarter              \n",
       "1998-01-01   8.616410\n",
       "1998-04-01   3.337375\n",
       "1998-07-01   3.825849\n",
       "1998-10-01   4.543881\n",
       "1999-01-01   2.972091\n",
       "...               ...\n",
       "2016-10-01   4.548222\n",
       "2017-01-01   8.813324\n",
       "2017-04-01  16.762800\n",
       "2017-07-01  28.437573\n",
       "2017-10-01  10.166296\n",
       "\n",
       "[80 rows x 1 columns]"
      ]
     },
     "execution_count": 63,
     "metadata": {},
     "output_type": "execute_result"
    }
   ],
   "source": [
    "df_r = (\n",
    "    df\n",
    "    .reset_index()\n",
    "    .query(\n",
    "        f\"Region == '{sampled_combination['Region']}'\"\n",
    "        f\"& Purpose == '{sampled_combination['Purpose']}'\"\n",
    "        f\"& State == '{sampled_combination['State']}'\"\n",
    "    )\n",
    ")\n",
    "\n",
    "print(df_r[[\"Region\", \"Purpose\", \"State\"]].value_counts())\n",
    "\n",
    "df_r = df_r.drop(columns=[\"Region\", \"Purpose\", \"State\"]).set_index(\"Quarter\")\n",
    "df_r"
   ]
  },
  {
   "cell_type": "code",
   "execution_count": 64,
   "metadata": {},
   "outputs": [
    {
     "data": {
      "text/plain": [
       "<Axes: xlabel='Quarter', ylabel='Trips'>"
      ]
     },
     "execution_count": 64,
     "metadata": {},
     "output_type": "execute_result"
    },
    {
     "data": {
      "image/png": "[encoded data removed]",
      "text/plain": [
       "<Figure size 640x480 with 1 Axes>"
      ]
     },
     "metadata": {},
     "output_type": "display_data"
    }
   ],
   "source": [
    "sns.lineplot(data=df_r, x=\"Quarter\", y=\"Trips\")"
   ]
  },
  {
   "cell_type": "code",
   "execution_count": null,
   "metadata": {},
   "outputs": [],
   "source": []
  }
 ],
 "metadata": {
  "kernelspec": {
   "display_name": "tsa",
   "language": "python",
   "name": "python3"
  },
  "language_info": {
   "codemirror_mode": {
    "name": "ipython",
    "version": 3
   },
   "file_extension": ".py",
   "mimetype": "text/x-python",
   "name": "python",
   "nbconvert_exporter": "python",
   "pygments_lexer": "ipython3",
   "version": "3.12.7"
  }
 },
 "nbformat": 4,
 "nbformat_minor": 2
}
